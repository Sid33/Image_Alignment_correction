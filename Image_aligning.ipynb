{
 "cells": [
  {
   "cell_type": "markdown",
   "id": "16d4589a",
   "metadata": {},
   "source": []
  },
  {
   "cell_type": "code",
   "execution_count": 1,
   "id": "542c5b77",
   "metadata": {},
   "outputs": [],
   "source": [
    "import cv2\n",
    "import numpy as np\n",
    "import pandas as pd\n",
    "import imutils\n",
    "from PIL import Image\n",
    "import os"
   ]
  },
  {
   "cell_type": "code",
   "execution_count": 2,
   "id": "41359ebb",
   "metadata": {},
   "outputs": [],
   "source": [
    "import matplotlib.pyplot as plt"
   ]
  },
  {
   "cell_type": "code",
   "execution_count": 7,
   "id": "d030eafc",
   "metadata": {},
   "outputs": [],
   "source": [
    "# img = cv2.imread(r\"C:\\Users\\sbali\\Downloads\\misaligned_images\\misaligned_images\\0e27f636242845138158f132878a3351.jpg\")\n",
    "# plt.imshow(img)"
   ]
  },
  {
   "cell_type": "code",
   "execution_count": 4,
   "id": "27d05d7d",
   "metadata": {},
   "outputs": [],
   "source": [
    "def aligning_image(img_folder_path , des_path):\n",
    "    images = os.listdir(img_folder_path)\n",
    "    for i in images:\n",
    "        image_name , ext = os.path.splitext(i)\n",
    "        print(f'Aligning image : {image_name + ext}')\n",
    "    \n",
    "        if ext =='.jpg' or '.jpeg':\n",
    "            \n",
    "            img = cv2.imread(img_folder_path+'/'+i)\n",
    "    \n",
    "            img_gray = cv2.cvtColor(img, cv2.COLOR_BGR2GRAY)\n",
    "            img_gray = cv2.bitwise_not(img_gray) \n",
    "            # making background light and text dark\n",
    "            \n",
    "            # threshold the image, setting all foreground pixels to\n",
    "            # 255 and all background pixels to 0\n",
    "            thresh = cv2.threshold(img_gray, 0, 255,cv2.THRESH_BINARY | cv2.THRESH_OTSU)[1]\n",
    "\n",
    "            img_coordinates = np.column_stack(np.where(thresh > 0))\n",
    "            img_angle = cv2.minAreaRect(img_coordinates)[-1]\n",
    "\n",
    "\n",
    "            # contours, hierarchy = cv2.findContours(thresh, cv2.RETR_LIST, cv2.CHAIN_APPROX_SIMPLE)\n",
    "            # contours = sorted(contours, key = cv2.contourArea, reverse = True)\n",
    "            # largestContour = contours[0]\n",
    "            # img_angle = cv2.minAreaRect(largestContour)[-1]\n",
    "\n",
    "            #print(\"before angle : \", img_angle)\n",
    "            if img_angle < -45 :\n",
    "                img_angle = -(90 + img_angle)\n",
    "            \n",
    "            elif img_angle > 45:\n",
    "                img_angle = -(-90 + img_angle)\n",
    "                \n",
    "            else:\n",
    "                img_angle = -img_angle\n",
    "            \n",
    "            #print(\"after angle : \", img_angle)\n",
    "            \n",
    "            (h, w) = img.shape[:2]\n",
    "            center = (w / 2, h / 2)\n",
    "\n",
    "            mul = 1.0\n",
    "            Mat = cv2.getRotationMatrix2D(center, img_angle, mul) \n",
    "\n",
    "            ####### Performed these operations as wrapaffine was cutting the corners of the image \n",
    "            abs_cos = abs(Mat[0,0])\n",
    "            abs_sin = abs(Mat[0,1])\n",
    "\n",
    "            b_w = int(h * abs_sin + w * abs_cos)\n",
    "            b_h = int(h * abs_cos + w * abs_sin)\n",
    "\n",
    "            Mat[0, 2] += b_w/2 - center[0]\n",
    "            Mat[1, 2] += b_h/2 - center[1]\n",
    "\n",
    "            rotated = cv2.warpAffine(img, Mat, (b_w, b_h), flags=cv2.INTER_CUBIC, borderMode=cv2.BORDER_REPLICATE)\n",
    "            \n",
    "            cv2.imwrite(des_path+ '/' + image_name + ext, rotated)\n",
    "            \n",
    "            print('---------- Alignment Completed ----------')\n",
    "            print()"
   ]
  },
  {
   "cell_type": "code",
   "execution_count": 6,
   "id": "99ce42ba",
   "metadata": {},
   "outputs": [],
   "source": [
    "aligning_image(r\"C:\\Users\\sbali\\Downloads\\misaligned_images\\misaligned_images\", r\"C:\\Users\\sbali\\Downloads\\misaligned_images\\aligned_images\")"
   ]
  },
  {
   "cell_type": "code",
   "execution_count": 8,
   "id": "07967568",
   "metadata": {},
   "outputs": [],
   "source": [
    "###### After alignment \n",
    "\n",
    "# img = cv2.imread(r\"C:\\Users\\sbali\\Downloads\\misaligned_images\\aligned_images\\0e27f636242845138158f132878a3351.jpg\")\n",
    "# plt.imshow(img)"
   ]
  },
  {
   "cell_type": "code",
   "execution_count": null,
   "id": "ab671578",
   "metadata": {},
   "outputs": [],
   "source": []
  },
  {
   "cell_type": "code",
   "execution_count": null,
   "id": "e026e31f",
   "metadata": {},
   "outputs": [],
   "source": []
  }
 ],
 "metadata": {
  "kernelspec": {
   "display_name": "Python 3 (ipykernel)",
   "language": "python",
   "name": "python3"
  },
  "language_info": {
   "codemirror_mode": {
    "name": "ipython",
    "version": 3
   },
   "file_extension": ".py",
   "mimetype": "text/x-python",
   "name": "python",
   "nbconvert_exporter": "python",
   "pygments_lexer": "ipython3",
   "version": "3.8.8"
  }
 },
 "nbformat": 4,
 "nbformat_minor": 5
}
